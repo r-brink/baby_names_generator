{
  "nbformat": 4,
  "nbformat_minor": 2,
  "metadata": {
    "accelerator": "GPU",
    "colab": {
      "name": "generate_babynames_long.ipynb",
      "provenance": [],
      "collapsed_sections": []
    },
    "interpreter": {
      "hash": "4f9aae5b6cf8db0a420f9377589481142c863fd46413551f815e8332cf444698"
    },
    "kernelspec": {
      "display_name": "Python 3.8.10 64-bit ('venv': venv)",
      "name": "python3"
    },
    "language_info": {
      "codemirror_mode": {
        "name": "ipython",
        "version": 3
      },
      "file_extension": ".py",
      "mimetype": "text/x-python",
      "name": "python",
      "nbconvert_exporter": "python",
      "pygments_lexer": "ipython3",
      "version": "3.8.10"
    }
  },
  "cells": [
    {
      "cell_type": "markdown",
      "source": [
        "# Generating baby names"
      ],
      "metadata": {
        "id": "yS3VnWgSR9xb"
      }
    },
    {
      "cell_type": "markdown",
      "source": [
        "\n",
        "\n",
        "\n",
        "\n",
        "The architecture for the RNN is strongly inspired by the Pokemon Name Generator of Yan Gobeil [(Github link)](https://github.com/yangobeil/Pokemon-name-generator/blob/master/Generate%20Pok%C3%A9mon%20names.ipynb?utm_source=pocket_mylist). With a relatively simple model, Yan was able to produce interesting results. "
      ],
      "metadata": {
        "id": "pNOycebSR9xo"
      }
    },
    {
      "cell_type": "markdown",
      "source": [
        "## Processing"
      ],
      "metadata": {
        "id": "UPEGiJMwR9xt"
      }
    },
    {
      "cell_type": "markdown",
      "source": [
        "As with any data project, getting and wrangling the data is the most work. There are endless lists of popular first names over the years, but it is nearly impossible to download a single file with a total overview. In the Netherlands you can find some overview of baby names at the Sociale Verzekeringsbank. This is the instance that pays child benefit to parents. We can find an overview of children names here: [SVB kindernamen](https://www.svbkindernamen.nl/nl/kindernamen/index.htm). From the page we manually copy the table from 2020 and 2019 and transform it in a CSV file."
      ],
      "metadata": {
        "id": "GpDy9x2WR9xw"
      }
    },
    {
      "cell_type": "code",
      "execution_count": null,
      "source": [
        "# Uncomment the following lines if you are running this notebook in Google Colab\n",
        "# !pip install polars==0.8.21\n",
        "# !pip install Unidecode==1.2.0"
      ],
      "outputs": [],
      "metadata": {
        "colab": {
          "base_uri": "https://localhost:8080/"
        },
        "id": "FLcbBEAlR9x0",
        "outputId": "e4b0e4f3-9f24-4787-bed7-9dd997b4eb52"
      }
    },
    {
      "cell_type": "code",
      "execution_count": 2,
      "source": [
        "# Use Polars instead of Pandas\n",
        "import polars as pl"
      ],
      "outputs": [],
      "metadata": {
        "id": "9lDbuMLzR9x6"
      }
    },
    {
      "cell_type": "code",
      "execution_count": 3,
      "source": [
        "df_nl20 = pl.read_csv('data/NL_MEISJESNAMEN_2020.csv', encoding='utf8', sep=';', columns=['Naam', 'Aantal'], )\n",
        "print(df_nl20.head(5))\n",
        "print(f'There are: {len(df_nl20)} names in the dataframe')"
      ],
      "outputs": [
        {
          "output_type": "stream",
          "name": "stdout",
          "text": [
            "shape: (5, 2)\n",
            "╭───────────┬────────╮\n",
            "│ Naam      ┆ Aantal │\n",
            "│ ---       ┆ ---    │\n",
            "│ str       ┆ i64    │\n",
            "╞═══════════╪════════╡\n",
            "│ \"Aaliyah\" ┆ 41     │\n",
            "├╌╌╌╌╌╌╌╌╌╌╌┼╌╌╌╌╌╌╌╌┤\n",
            "│ \"Abby\"    ┆ 38     │\n",
            "├╌╌╌╌╌╌╌╌╌╌╌┼╌╌╌╌╌╌╌╌┤\n",
            "│ \"Abigail\" ┆ 39     │\n",
            "├╌╌╌╌╌╌╌╌╌╌╌┼╌╌╌╌╌╌╌╌┤\n",
            "│ \"Ada\"     ┆ 33     │\n",
            "├╌╌╌╌╌╌╌╌╌╌╌┼╌╌╌╌╌╌╌╌┤\n",
            "│ \"Adriana\" ┆ 59     │\n",
            "╰───────────┴────────╯\n",
            "There are: 518 names in the dataframe\n"
          ]
        }
      ],
      "metadata": {
        "colab": {
          "base_uri": "https://localhost:8080/"
        },
        "id": "YXToR9jqR9x9",
        "outputId": "8769c784-6d11-49c5-c43d-be52dcccf0d3"
      }
    },
    {
      "cell_type": "code",
      "execution_count": 6,
      "source": [
        "df_nl19 = pl.read_csv('data/NL_MEISJESNAMEN_2019.csv', encoding='utf8', sep=';', columns=['Naam', 'Aantal'], )\n",
        "print(df_nl19.head(5))\n",
        "print(f'There are {len(df_nl19)} names in the dataframe')"
      ],
      "outputs": [
        {
          "output_type": "stream",
          "name": "stdout",
          "text": [
            "shape: (5, 2)\n",
            "╭───────────┬────────╮\n",
            "│ Naam      ┆ Aantal │\n",
            "│ ---       ┆ ---    │\n",
            "│ str       ┆ i64    │\n",
            "╞═══════════╪════════╡\n",
            "│ \"Aaliyah\" ┆ 61     │\n",
            "├╌╌╌╌╌╌╌╌╌╌╌┼╌╌╌╌╌╌╌╌┤\n",
            "│ \"Aaltje\"  ┆ 28     │\n",
            "├╌╌╌╌╌╌╌╌╌╌╌┼╌╌╌╌╌╌╌╌┤\n",
            "│ \"Abby\"    ┆ 36     │\n",
            "├╌╌╌╌╌╌╌╌╌╌╌┼╌╌╌╌╌╌╌╌┤\n",
            "│ \"Abigail\" ┆ 44     │\n",
            "├╌╌╌╌╌╌╌╌╌╌╌┼╌╌╌╌╌╌╌╌┤\n",
            "│ \"Ada\"     ┆ 34     │\n",
            "╰───────────┴────────╯\n",
            "There are 525 names in the dataframe\n"
          ]
        }
      ],
      "metadata": {
        "colab": {
          "base_uri": "https://localhost:8080/"
        },
        "id": "l2Q6OJsHR9yE",
        "outputId": "4731bc46-2e0c-40f9-e3b4-775c7a3ca053"
      }
    },
    {
      "cell_type": "markdown",
      "source": [
        "We can already see that there is quite some overlap between the years. Let's create on list and see how big the overlap is."
      ],
      "metadata": {
        "id": "YxBUqLabR9yI"
      }
    },
    {
      "cell_type": "code",
      "execution_count": 7,
      "source": [
        "# Create one single dataframe with all names\n",
        "df_stacked = df_nl20.vstack(df_nl19)\n",
        "df_stacked['Naam'].is_duplicated().sum()"
      ],
      "outputs": [
        {
          "output_type": "execute_result",
          "data": {
            "text/plain": [
              "932"
            ]
          },
          "metadata": {
            "tags": []
          },
          "execution_count": 7
        }
      ],
      "metadata": {
        "colab": {
          "base_uri": "https://localhost:8080/"
        },
        "id": "xPLhrzB7R9yM",
        "outputId": "aba4a662-cadc-4f3d-a73a-e87a12d01b82"
      }
    },
    {
      "cell_type": "markdown",
      "source": [
        "Considering we have a total of little more than a 1000 names, 932 duplicated values is.. quite a bit. It makes sense when we take into account that names with a frequency lower than 25 are left out because of privacy reasons."
      ],
      "metadata": {
        "id": "q838butNR9yR"
      }
    },
    {
      "cell_type": "code",
      "execution_count": 9,
      "source": [
        "# Create a list with unique names and frequencies\n",
        "df_nl = df_stacked.groupby('Naam').agg([pl.sum('Aantal').keep_name()])\n",
        "\n",
        "print(df_nl.head())\n",
        "print(f'There are {len(df_nl)} names in the dataframe')"
      ],
      "outputs": [
        {
          "output_type": "stream",
          "name": "stdout",
          "text": [
            "shape: (5, 2)\n",
            "╭────────────┬────────╮\n",
            "│ Naam       ┆ Aantal │\n",
            "│ ---        ┆ ---    │\n",
            "│ str        ┆ i64    │\n",
            "╞════════════╪════════╡\n",
            "│ \"Maaike\"   ┆ 55     │\n",
            "├╌╌╌╌╌╌╌╌╌╌╌╌┼╌╌╌╌╌╌╌╌┤\n",
            "│ \"Farah\"    ┆ 68     │\n",
            "├╌╌╌╌╌╌╌╌╌╌╌╌┼╌╌╌╌╌╌╌╌┤\n",
            "│ \"Tasnim\"   ┆ 25     │\n",
            "├╌╌╌╌╌╌╌╌╌╌╌╌┼╌╌╌╌╌╌╌╌┤\n",
            "│ \"Marly\"    ┆ 146    │\n",
            "├╌╌╌╌╌╌╌╌╌╌╌╌┼╌╌╌╌╌╌╌╌┤\n",
            "│ \"Fabiënne\" ┆ 28     │\n",
            "╰────────────┴────────╯\n",
            "There are 577 names in the dataframe\n"
          ]
        }
      ],
      "metadata": {
        "colab": {
          "base_uri": "https://localhost:8080/"
        },
        "id": "44WC8YyzR9yU",
        "outputId": "ef916ea5-a643-4917-8a82-da183cbe7e5f"
      }
    },
    {
      "cell_type": "code",
      "execution_count": 10,
      "source": [
        "# Showing a small sample from the dataset\n",
        "df_nl.sort('Aantal', reverse=True).sample(frac=0.01)"
      ],
      "outputs": [
        {
          "output_type": "execute_result",
          "data": {
            "text/plain": [
              "shape: (5, 2)\n",
              "╭─────────┬────────╮\n",
              "│ Naam    ┆ Aantal │\n",
              "│ ---     ┆ ---    │\n",
              "│ str     ┆ i64    │\n",
              "╞═════════╪════════╡\n",
              "│ \"Emma\"  ┆ 1416   │\n",
              "├╌╌╌╌╌╌╌╌╌┼╌╌╌╌╌╌╌╌┤\n",
              "│ \"Lenne\" ┆ 69     │\n",
              "├╌╌╌╌╌╌╌╌╌┼╌╌╌╌╌╌╌╌┤\n",
              "│ \"Imke\"  ┆ 78     │\n",
              "├╌╌╌╌╌╌╌╌╌┼╌╌╌╌╌╌╌╌┤\n",
              "│ \"Maeve\" ┆ 255    │\n",
              "├╌╌╌╌╌╌╌╌╌┼╌╌╌╌╌╌╌╌┤\n",
              "│ \"Lot\"   ┆ 270    │\n",
              "╰─────────┴────────╯"
            ],
            "text/html": [
              "<div>\n",
              "<style scoped>\n",
              "    .dataframe tbody tr th:only-of-type {\n",
              "        vertical-align: middle;\n",
              "    }\n",
              "\n",
              "    .dataframe tbody tr th {\n",
              "        vertical-align: top;\n",
              "    }\n",
              "\n",
              "    .dataframe thead th {\n",
              "        text-align: right;\n",
              "    }\n",
              "</style>\n",
              "<table border=\"1 \"class=\"dataframe \">\n",
              "<thead>\n",
              "<tr>\n",
              "<th>\n",
              "Naam\n",
              "</th>\n",
              "<th>\n",
              "Aantal\n",
              "</th>\n",
              "</tr>\n",
              "<tr>\n",
              "<td>\n",
              "str\n",
              "</td>\n",
              "<td>\n",
              "i64\n",
              "</td>\n",
              "</tr>\n",
              "</thead>\n",
              "<tbody>\n",
              "<tr>\n",
              "<td>\n",
              "\"Emma\"\n",
              "</td>\n",
              "<td>\n",
              "1416\n",
              "</td>\n",
              "</tr>\n",
              "<tr>\n",
              "<td>\n",
              "\"Lenne\"\n",
              "</td>\n",
              "<td>\n",
              "69\n",
              "</td>\n",
              "</tr>\n",
              "<tr>\n",
              "<td>\n",
              "\"Imke\"\n",
              "</td>\n",
              "<td>\n",
              "78\n",
              "</td>\n",
              "</tr>\n",
              "<tr>\n",
              "<td>\n",
              "\"Maeve\"\n",
              "</td>\n",
              "<td>\n",
              "255\n",
              "</td>\n",
              "</tr>\n",
              "<tr>\n",
              "<td>\n",
              "\"Lot\"\n",
              "</td>\n",
              "<td>\n",
              "270\n",
              "</td>\n",
              "</tr>\n",
              "</tbody>\n",
              "</table>\n",
              "</div>"
            ]
          },
          "metadata": {
            "tags": []
          },
          "execution_count": 10
        }
      ],
      "metadata": {
        "colab": {
          "base_uri": "https://localhost:8080/",
          "height": 237
        },
        "id": "2Ri5GNvmR9yX",
        "outputId": "ad0a601b-9d21-46d1-fa4b-1e7a2e1bf520"
      }
    },
    {
      "cell_type": "markdown",
      "source": [
        "577 names are not a lot for a neural network. It would be very unlikely that we will get useful results out of it. After some searching I also found a list of the Nederlandse Voornamenbank (maintained by the [Meertens Instituut](https://www.meertens.knaw.nl/nvb/)). Although they haven't replied to my inquiries to get direct access to their database, I found another list at [Naamkunde.net](http://www.naamkunde.net/). Let's process this data as well.\n",
        "\n",
        "We take all names from 1995 to 2006. Although they are old, we concluded earlier that there are not many new names introduced every year."
      ],
      "metadata": {
        "id": "K90QO5IoR9ya"
      }
    },
    {
      "cell_type": "code",
      "execution_count": 11,
      "source": [
        "df_nl9506 = pl.read_csv('data/NL_MEISJESNAMEN_19952006.csv', encoding='utf8', sep=';', columns=['Naam', 'Aantal'])\n",
        "print(df_nl9506.head(5))\n",
        "print(f'There are {len(df_nl9506)} names in the dataframe')"
      ],
      "outputs": [
        {
          "output_type": "stream",
          "name": "stdout",
          "text": [
            "shape: (5, 2)\n",
            "╭───────────────┬────────╮\n",
            "│ Naam          ┆ Aantal │\n",
            "│ ---           ┆ ---    │\n",
            "│ str           ┆ i64    │\n",
            "╞═══════════════╪════════╡\n",
            "│ \"Aafje (V)\"   ┆ 131    │\n",
            "├╌╌╌╌╌╌╌╌╌╌╌╌╌╌╌┼╌╌╌╌╌╌╌╌┤\n",
            "│ \"Aafke (V)\"   ┆ 744    │\n",
            "├╌╌╌╌╌╌╌╌╌╌╌╌╌╌╌┼╌╌╌╌╌╌╌╌┤\n",
            "│ \"Aagje (V)\"   ┆ 272    │\n",
            "├╌╌╌╌╌╌╌╌╌╌╌╌╌╌╌┼╌╌╌╌╌╌╌╌┤\n",
            "│ \"Aagtje (V)\"  ┆ 29     │\n",
            "├╌╌╌╌╌╌╌╌╌╌╌╌╌╌╌┼╌╌╌╌╌╌╌╌┤\n",
            "│ \"Aaliyah (V)\" ┆ 257    │\n",
            "╰───────────────┴────────╯\n",
            "There are 5343 names in the dataframe\n"
          ]
        }
      ],
      "metadata": {
        "colab": {
          "base_uri": "https://localhost:8080/"
        },
        "id": "_G8-IhUaR9yc",
        "outputId": "ec779d9b-9a05-4c0d-9dba-ee578619b0a5"
      }
    },
    {
      "cell_type": "code",
      "execution_count": 12,
      "source": [
        "# To prevent the model from learning that names contain (V) we remove these from the names\n",
        "df_nl9506['Naam'] = [(i.split(' ')[0]) for i in df_nl9506['Naam']]\n",
        "print(df_nl9506.head(5))"
      ],
      "outputs": [
        {
          "output_type": "stream",
          "name": "stdout",
          "text": [
            "shape: (5, 2)\n",
            "╭───────────┬────────╮\n",
            "│ Naam      ┆ Aantal │\n",
            "│ ---       ┆ ---    │\n",
            "│ str       ┆ i64    │\n",
            "╞═══════════╪════════╡\n",
            "│ \"Aafje\"   ┆ 131    │\n",
            "├╌╌╌╌╌╌╌╌╌╌╌┼╌╌╌╌╌╌╌╌┤\n",
            "│ \"Aafke\"   ┆ 744    │\n",
            "├╌╌╌╌╌╌╌╌╌╌╌┼╌╌╌╌╌╌╌╌┤\n",
            "│ \"Aagje\"   ┆ 272    │\n",
            "├╌╌╌╌╌╌╌╌╌╌╌┼╌╌╌╌╌╌╌╌┤\n",
            "│ \"Aagtje\"  ┆ 29     │\n",
            "├╌╌╌╌╌╌╌╌╌╌╌┼╌╌╌╌╌╌╌╌┤\n",
            "│ \"Aaliyah\" ┆ 257    │\n",
            "╰───────────┴────────╯\n"
          ]
        }
      ],
      "metadata": {
        "colab": {
          "base_uri": "https://localhost:8080/"
        },
        "id": "51LGAWJ-R9yd",
        "outputId": "7d2838ca-ef78-49a8-97dd-63ca0371ec3e"
      }
    },
    {
      "cell_type": "code",
      "execution_count": 13,
      "source": [
        "df_nl = df_nl.vstack(df_nl9506)"
      ],
      "outputs": [],
      "metadata": {
        "id": "nf4e0EmCR9yg"
      }
    },
    {
      "cell_type": "code",
      "execution_count": 14,
      "source": [
        "# Creating one single file again\n",
        "df_nl = df_nl.groupby('Naam').agg([pl.sum('Aantal').keep_name()])"
      ],
      "outputs": [],
      "metadata": {
        "id": "TpaUuWiLR9yi"
      }
    },
    {
      "cell_type": "code",
      "execution_count": 15,
      "source": [
        "# 10 most popular names from our datasets\n",
        "print(df_nl.sort('Aantal', reverse=True)[:10])\n",
        "print(f'There are {len(df_nl)} names in the dataframe')"
      ],
      "outputs": [
        {
          "output_type": "stream",
          "name": "stdout",
          "text": [
            "shape: (10, 2)\n",
            "╭───────────┬────────╮\n",
            "│ Naam      ┆ Aantal │\n",
            "│ ---       ┆ ---    │\n",
            "│ str       ┆ i64    │\n",
            "╞═══════════╪════════╡\n",
            "│ \"Sanne\"   ┆ 22651  │\n",
            "├╌╌╌╌╌╌╌╌╌╌╌┼╌╌╌╌╌╌╌╌┤\n",
            "│ \"Maria\"   ┆ 21899  │\n",
            "├╌╌╌╌╌╌╌╌╌╌╌┼╌╌╌╌╌╌╌╌┤\n",
            "│ \"Laura\"   ┆ 20961  │\n",
            "├╌╌╌╌╌╌╌╌╌╌╌┼╌╌╌╌╌╌╌╌┤\n",
            "│ \"Anne\"    ┆ 20823  │\n",
            "├╌╌╌╌╌╌╌╌╌╌╌┼╌╌╌╌╌╌╌╌┤\n",
            "│ ...       ┆ ...    │\n",
            "├╌╌╌╌╌╌╌╌╌╌╌┼╌╌╌╌╌╌╌╌┤\n",
            "│ \"Lisa\"    ┆ 18078  │\n",
            "├╌╌╌╌╌╌╌╌╌╌╌┼╌╌╌╌╌╌╌╌┤\n",
            "│ \"Anna\"    ┆ 18030  │\n",
            "├╌╌╌╌╌╌╌╌╌╌╌┼╌╌╌╌╌╌╌╌┤\n",
            "│ \"Iris\"    ┆ 17285  │\n",
            "├╌╌╌╌╌╌╌╌╌╌╌┼╌╌╌╌╌╌╌╌┤\n",
            "│ \"Johanna\" ┆ 16975  │\n",
            "├╌╌╌╌╌╌╌╌╌╌╌┼╌╌╌╌╌╌╌╌┤\n",
            "│ \"Eva\"     ┆ 14845  │\n",
            "╰───────────┴────────╯\n",
            "There are 5413 names in the dataframe\n"
          ]
        }
      ],
      "metadata": {
        "colab": {
          "base_uri": "https://localhost:8080/"
        },
        "id": "QtYxw1VpR9yj",
        "outputId": "3ab5a1d9-768a-4ce7-9a5c-6a4902989179"
      }
    },
    {
      "cell_type": "markdown",
      "source": [
        "5400 names is a lot better than before. After experimenting I found that this is still not enough. Fortunately, Belgium has similar names. Some web searching shows that the Belgium government actually publishes a list of first names. It can be found [here](https://statbel.fgov.be/nl/themas/bevolking/namen-en-voornamen). This list is immense and we can download all the names from 1995 to 2020. I have chosen here to also include the Wallonian names, even though these seem more French in general. "
      ],
      "metadata": {
        "id": "aSWs-RgBR9yl"
      }
    },
    {
      "cell_type": "code",
      "execution_count": 16,
      "source": [
        "df_be = pl.read_csv('data/BE_MEISJESNAMEN_19952020.csv', encoding='utf8', sep=';', columns=['Naam', 'Aantal'])\n",
        "print(df_be.head(5))\n",
        "print(f'There are {len(df_be)} names in the dataframe')"
      ],
      "outputs": [
        {
          "output_type": "stream",
          "name": "stdout",
          "text": [
            "shape: (5, 2)\n",
            "╭──────────┬────────╮\n",
            "│ Naam     ┆ Aantal │\n",
            "│ ---      ┆ ---    │\n",
            "│ str      ┆ i64    │\n",
            "╞══════════╪════════╡\n",
            "│ \"Emma\"   ┆ 15779  │\n",
            "├╌╌╌╌╌╌╌╌╌╌┼╌╌╌╌╌╌╌╌┤\n",
            "│ \"Laura\"  ┆ 15260  │\n",
            "├╌╌╌╌╌╌╌╌╌╌┼╌╌╌╌╌╌╌╌┤\n",
            "│ \"Marie\"  ┆ 13922  │\n",
            "├╌╌╌╌╌╌╌╌╌╌┼╌╌╌╌╌╌╌╌┤\n",
            "│ \"Louise\" ┆ 12334  │\n",
            "├╌╌╌╌╌╌╌╌╌╌┼╌╌╌╌╌╌╌╌┤\n",
            "│ \"Sarah\"  ┆ 11973  │\n",
            "╰──────────┴────────╯\n",
            "There are 12799 names in the dataframe\n"
          ]
        }
      ],
      "metadata": {
        "colab": {
          "base_uri": "https://localhost:8080/"
        },
        "id": "kidaaxl0R9yn",
        "outputId": "d26f616a-3169-41cb-b3ea-3e238b480a46"
      }
    },
    {
      "cell_type": "code",
      "execution_count": 17,
      "source": [
        "# Checking if we need to clean the list and remove duplicates\n",
        "df_be['Naam'].is_duplicated().sum()"
      ],
      "outputs": [
        {
          "output_type": "execute_result",
          "data": {
            "text/plain": [
              "0"
            ]
          },
          "metadata": {
            "tags": []
          },
          "execution_count": 17
        }
      ],
      "metadata": {
        "colab": {
          "base_uri": "https://localhost:8080/"
        },
        "id": "ZFF-EGApR9yo",
        "outputId": "bc27d7f6-8852-4a97-dc8d-b1a8c90eb99a"
      }
    },
    {
      "cell_type": "code",
      "execution_count": 19,
      "source": [
        "# Creating one overview \n",
        "df = df_be.vstack(df_nl)\n",
        "df = df.groupby('Naam').agg([pl.sum('Aantal').keep_name()])"
      ],
      "outputs": [],
      "metadata": {
        "id": "RjU6GTkSR9yq"
      }
    },
    {
      "cell_type": "code",
      "execution_count": 20,
      "source": [
        "print(df.sort(by='Aantal', reverse=True).sample(frac=0.0005))\n",
        "print(f'There are {len(df)} names in the dataframe')"
      ],
      "outputs": [
        {
          "output_type": "stream",
          "name": "stdout",
          "text": [
            "shape: (7, 2)\n",
            "╭────────────┬────────╮\n",
            "│ Naam       ┆ Aantal │\n",
            "│ ---        ┆ ---    │\n",
            "│ str        ┆ i64    │\n",
            "╞════════════╪════════╡\n",
            "│ \"Daphnée\"  ┆ 80     │\n",
            "├╌╌╌╌╌╌╌╌╌╌╌╌┼╌╌╌╌╌╌╌╌┤\n",
            "│ \"Audrina\"  ┆ 32     │\n",
            "├╌╌╌╌╌╌╌╌╌╌╌╌┼╌╌╌╌╌╌╌╌┤\n",
            "│ \"Yva\"      ┆ 5      │\n",
            "├╌╌╌╌╌╌╌╌╌╌╌╌┼╌╌╌╌╌╌╌╌┤\n",
            "│ \"Clea\"     ┆ 23     │\n",
            "├╌╌╌╌╌╌╌╌╌╌╌╌┼╌╌╌╌╌╌╌╌┤\n",
            "│ \"Hafsatou\" ┆ 8      │\n",
            "├╌╌╌╌╌╌╌╌╌╌╌╌┼╌╌╌╌╌╌╌╌┤\n",
            "│ \"Ferike\"   ┆ 7      │\n",
            "├╌╌╌╌╌╌╌╌╌╌╌╌┼╌╌╌╌╌╌╌╌┤\n",
            "│ \"Caylee\"   ┆ 11     │\n",
            "╰────────────┴────────╯\n",
            "There are 14371 names in the dataframe\n"
          ]
        }
      ],
      "metadata": {
        "colab": {
          "base_uri": "https://localhost:8080/"
        },
        "id": "nLwSIXyBR9ys",
        "outputId": "26433257-6c54-47fb-9b36-5c95e83f4ea4"
      }
    },
    {
      "cell_type": "markdown",
      "source": [
        "I have also including a large dataset with names from the USA to experiment with. This set can be found [here](https://www.ssa.gov/oact/babynames/limits.html). More names give more interesting results from the neural network that we are going to use. You can choose to comment out the following cell to leave these names out of the model."
      ],
      "metadata": {
        "id": "RT-Ic3NvR9yu"
      }
    },
    {
      "cell_type": "code",
      "execution_count": 24,
      "source": [
        "# Processing the dataset in one cell to create a single file to work with again.\n",
        "df_int = pl.read_csv('data/INT_MEISJESNAMEN_2020.csv', encoding='utf8', sep=';', columns=['Naam', 'Aantal'])\n",
        "\n",
        "df = df.vstack(df_int)\n",
        "\n",
        "df = df.groupby('Naam').agg([pl.sum('Aantal').keep_name()])\n",
        "\n",
        "print(df.head(5))\n",
        "print(f'There are {len(df)} names in the dataframe')"
      ],
      "outputs": [
        {
          "output_type": "stream",
          "name": "stdout",
          "text": [
            "shape: (5, 2)\n",
            "╭────────────┬────────╮\n",
            "│ Naam       ┆ Aantal │\n",
            "│ ---        ┆ ---    │\n",
            "│ str        ┆ i64    │\n",
            "╞════════════╪════════╡\n",
            "│ \"Sonnie\"   ┆ 32     │\n",
            "├╌╌╌╌╌╌╌╌╌╌╌╌┼╌╌╌╌╌╌╌╌┤\n",
            "│ \"Raeyah\"   ┆ 24     │\n",
            "├╌╌╌╌╌╌╌╌╌╌╌╌┼╌╌╌╌╌╌╌╌┤\n",
            "│ \"Areeba\"   ┆ 27     │\n",
            "├╌╌╌╌╌╌╌╌╌╌╌╌┼╌╌╌╌╌╌╌╌┤\n",
            "│ \"Kani\"     ┆ 37     │\n",
            "├╌╌╌╌╌╌╌╌╌╌╌╌┼╌╌╌╌╌╌╌╌┤\n",
            "│ \"Graceann\" ┆ 16     │\n",
            "╰────────────┴────────╯\n",
            "There are 26754 names in the dataframe\n"
          ]
        }
      ],
      "metadata": {
        "colab": {
          "base_uri": "https://localhost:8080/"
        },
        "id": "RtvTJRYDR9yw",
        "outputId": "66b9c381-4356-467b-f6aa-637b7ff04e91"
      }
    },
    {
      "cell_type": "code",
      "execution_count": 25,
      "source": [
        "# The neural network only needs the actual names. The frequencies can be used to do some data analyses on.\n",
        "names = []\n",
        "\n",
        "for name in df['Naam']:\n",
        "    names.append(name)\n",
        "    \n",
        "len(names)"
      ],
      "outputs": [
        {
          "output_type": "execute_result",
          "data": {
            "text/plain": [
              "26754"
            ]
          },
          "metadata": {
            "tags": []
          },
          "execution_count": 25
        }
      ],
      "metadata": {
        "colab": {
          "base_uri": "https://localhost:8080/"
        },
        "id": "llArF8UjR9yx",
        "outputId": "7ad5ab1e-0c9d-4cd6-d114-a3184bb19b8c"
      }
    },
    {
      "cell_type": "code",
      "execution_count": 26,
      "source": [
        "# We write the list of names to a text file, so that we don't have to do all the every time we want to run the model.\n",
        "with open('model_input/names.txt', 'w+') as f:\n",
        "      \n",
        "    # write elements of list\n",
        "    for items in names:\n",
        "        f.write('%s\\n' %items)\n",
        "\n",
        "    f.close()"
      ],
      "outputs": [],
      "metadata": {
        "id": "3SPSZiy_R9yz"
      }
    },
    {
      "cell_type": "code",
      "execution_count": 27,
      "source": [
        "df.to_csv('data/all_names.csv')"
      ],
      "outputs": [],
      "metadata": {
        "id": "DMv7-5lpR9y1"
      }
    },
    {
      "cell_type": "markdown",
      "source": [
        "We are done with data processing. By merging several files with first names we have created a final list of 26754 names. The final list contains North American, Dutch and French names. Interesting mix of inputs for the model!"
      ],
      "metadata": {
        "id": "-B_yOWMIR9y3"
      }
    },
    {
      "cell_type": "markdown",
      "source": [
        "## Data transformation"
      ],
      "metadata": {
        "id": "sPaOoHuDR9y4"
      }
    },
    {
      "cell_type": "markdown",
      "source": [
        "With all the names in one file we still have to do some transformations to make sure that the model is able to process the names. "
      ],
      "metadata": {
        "id": "oCO7A_iAR9y5"
      }
    },
    {
      "cell_type": "code",
      "execution_count": 28,
      "source": [
        "# Importing packages for the transformations\n",
        "import numpy as np\n",
        "import tensorflow as tf\n",
        "import unidecode"
      ],
      "outputs": [],
      "metadata": {
        "id": "5ZhQKmY8R9y6"
      }
    },
    {
      "cell_type": "code",
      "execution_count": 29,
      "source": [
        "# Loading the text set to train the Tokenizer and allowing to skip the processing steps\n",
        "with open('model_input/names.txt', 'r') as text:\n",
        "    list_of_names = text.read()\n",
        "\n",
        "list_of_names[:50]\n",
        "\n",
        "names = list_of_names.splitlines()"
      ],
      "outputs": [],
      "metadata": {
        "id": "WfB4r9pMR9y8"
      }
    },
    {
      "cell_type": "code",
      "execution_count": 30,
      "source": [
        "# Using a temporary variable\n",
        "_ = []\n",
        "\n",
        "# Removing hyphens and other things like umlauts\n",
        "for name in names:\n",
        "    # split on hyphens\n",
        "    x = name.split('-')\n",
        "    x = ''.join(x)\n",
        "    # normalise all text to plain letters\n",
        "    x = unidecode.unidecode(x)\n",
        "    # add dot to indicate end of name for model\n",
        "    x = str(x)+'.'\n",
        "    # lower case all letters for consistency\n",
        "    x = x.lower()\n",
        "    # remove apostrophes\n",
        "    x = x.replace(\"'\", \"\")\n",
        "  \n",
        "    _.append(x)\n",
        "\n",
        "# Reassigning the cleaned list to the names variable\n",
        "names = _\n"
      ],
      "outputs": [],
      "metadata": {
        "id": "6Sze0v32R9y-"
      }
    },
    {
      "cell_type": "code",
      "execution_count": 31,
      "source": [
        "# Define tokenizer to create mapping of all characters\n",
        "tokenizer = tf.keras.preprocessing.text.Tokenizer(\n",
        "    filters='!\"#$%&()*+,-/:;<=>?@[\\\\]^_`{|}~',\n",
        "    split='\\n')"
      ],
      "outputs": [],
      "metadata": {
        "id": "xpt2smCpR9y_"
      }
    },
    {
      "cell_type": "code",
      "execution_count": 32,
      "source": [
        "# Fitting the tokenizer on the original name list, without cleaning, to include all possible charachters \n",
        "tokenizer.fit_on_texts(list_of_names)"
      ],
      "outputs": [],
      "metadata": {
        "id": "Kk3ahesCR9zB"
      }
    },
    {
      "cell_type": "code",
      "execution_count": 33,
      "source": [
        "# Creating mappings for the characters\n",
        "char_to_index = tokenizer.word_index\n",
        "index_to_char = dict((v, k) for k, v in char_to_index.items())"
      ],
      "outputs": [],
      "metadata": {
        "id": "MEZ9VVCDR9zB"
      }
    },
    {
      "cell_type": "code",
      "execution_count": 34,
      "source": [
        "# Adding a dot to both dictionaries, so the model can use it when generating names and knows when to move on\n",
        "char_to_index['.'] = 0\n",
        "index_to_char[0] = '.'\n",
        "\n",
        "print(char_to_index)"
      ],
      "outputs": [
        {
          "output_type": "stream",
          "name": "stdout",
          "text": [
            "{'a': 1, 'e': 2, 'i': 3, 'n': 4, 'l': 5, 'r': 6, 'y': 7, 's': 8, 'h': 9, 'm': 10, 'o': 11, 't': 12, 'd': 13, 'k': 14, 'u': 15, 'c': 16, 'j': 17, 'b': 18, 'z': 19, 'v': 20, 'g': 21, 'f': 22, 'p': 23, 'é': 24, 'w': 25, 'x': 26, 'ï': 27, 'ë': 28, 'q': 29, 'ü': 30, 'è': 31, 'â': 32, 'ş': 33, 'ç': 34, 'í': 35, 'ö': 36, 'ó': 37, \"'\": 38, 'ä': 39, 'á': 40, 'ı': 41, 'î': 42, 'ğ': 43, 'û': 44, 'ÿ': 45, 'ê': 46, 'i̇': 47, 'ù': 48, 'ú': 49, 'š': 50, 'ĝ': 51, 'à': 52, 'æ': 53, 'å': 54, '.': 0}\n"
          ]
        }
      ],
      "metadata": {
        "colab": {
          "base_uri": "https://localhost:8080/"
        },
        "id": "rbXdgmVaR9zD",
        "outputId": "a55d764f-bd00-42b1-d95b-32eda574d50a"
      }
    },
    {
      "cell_type": "code",
      "execution_count": 35,
      "source": [
        "# Maximum number of characters in names. These are number of time steps used in the RNN model\n",
        "max_char = len(max(names, key=len))\n",
        "\n",
        "# Amount of names that are available\n",
        "m = len(names)\n",
        "\n",
        "# Number of potential characters\n",
        "char_dim = len(char_to_index)"
      ],
      "outputs": [],
      "metadata": {
        "id": "gYcuMC5gR9zE"
      }
    },
    {
      "cell_type": "code",
      "execution_count": 36,
      "source": [
        "# Converting the list of names to a training dataset. This creates a matrix for each of the available names in 'm'.\n",
        "X = np.zeros((m, max_char, char_dim))\n",
        "Y = np.zeros((m, max_char, char_dim))\n",
        "\n",
        "for i in range(m):\n",
        "    name = list(names[i])\n",
        "    for j in range(len(name)):\n",
        "        X[i, j, char_to_index[name[j]]] = 1\n",
        "        if j < len(name)-1:\n",
        "            Y[i, j, char_to_index[name[j+1]]] = 1"
      ],
      "outputs": [],
      "metadata": {
        "id": "Lz2GZU00R9zG"
      }
    },
    {
      "cell_type": "markdown",
      "source": [
        "## Generating names with an Recurrent Neural Network (RNN)"
      ],
      "metadata": {
        "id": "ws5BzmyLR9zH"
      }
    },
    {
      "cell_type": "code",
      "execution_count": 37,
      "source": [
        "import os\n",
        "\n",
        "from keras.models import load_model\n",
        "from keras.models import Sequential\n",
        "from keras.layers import LSTM, Dense\n",
        "from keras.callbacks import LambdaCallback"
      ],
      "outputs": [],
      "metadata": {
        "id": "QsS0tY3xR9zI"
      }
    },
    {
      "cell_type": "markdown",
      "source": [
        "Using the explanation of Yan Goebel on how the names are generated (from his original notebook): _\"The idea is to input empty characters to the trained network and use the output of the first time step as a probability distribution for the first letter of the name. We then use this distribution to decide randomly the first character, record it and update the input to pass this character as an input for the second time step. This is continued for the following time steps to create a name._\n",
        "\n",
        "_This is where using a '.' at the end of each name becomes important, because we stop the procedure once we get a '.' as an output, meaning that the generated name is done. Also if we reach the length of the largest name in the training set we put a '.' and end the procedure.\"_"
      ],
      "metadata": {
        "id": "2Nniq96vR9zK"
      }
    },
    {
      "cell_type": "code",
      "execution_count": 38,
      "source": [
        "def make_name(model):\n",
        "    name = []\n",
        "    x = np.zeros((1, max_char, char_dim))\n",
        "    end = False\n",
        "    i = 0\n",
        "    \n",
        "    while end==False:\n",
        "        probs = list(model.predict(x)[0,i])\n",
        "        probs = probs / np.sum(probs)\n",
        "        index = np.random.choice(range(char_dim), p=probs)\n",
        "        if i == max_char-2:\n",
        "            character = '.'\n",
        "            end = True\n",
        "        else:\n",
        "            character = index_to_char[index]\n",
        "        name.append(character)\n",
        "        x[0, i+1, index] = 1\n",
        "        i += 1\n",
        "        if character == '.':\n",
        "            end = True\n",
        "    print(''.join(name))\n",
        "    return ''.join(name)"
      ],
      "outputs": [],
      "metadata": {
        "id": "xuniaURxR9zL"
      }
    },
    {
      "cell_type": "markdown",
      "source": [
        "To monitor the model during training the following function is defined. After every 25 epochs we print 5 results to see what names are generated."
      ],
      "metadata": {
        "id": "hDQdKUzrR9zN"
      }
    },
    {
      "cell_type": "code",
      "execution_count": 39,
      "source": [
        "def generate_name_loop(epoch, _):\n",
        "    if epoch % 25 == 0:\n",
        "        \n",
        "        print(f'Names generated after epoch {epoch}')\n",
        "\n",
        "        for i in range(5):\n",
        "            make_name(model)\n",
        "        \n",
        "        print()"
      ],
      "outputs": [],
      "metadata": {
        "id": "tF_KjYWFR9zN"
      }
    },
    {
      "cell_type": "code",
      "execution_count": 40,
      "source": [
        "# Convert the function to be able to use it as callback function. \n",
        "name_generator = LambdaCallback(on_epoch_end = generate_name_loop)"
      ],
      "outputs": [],
      "metadata": {
        "id": "VLcS_t_PR9zP"
      }
    },
    {
      "cell_type": "markdown",
      "source": [
        "From Yan Gobeil: _\"In the case of interest here we only consider one layer of recurrence, which we take to be LSTM with 128 units. We return the output of this layer and use it into a fully connected dense layer that converts the result of the LSTM layer into a vector of size char_dim using a softmax activation. We use categorical cross entropy as a cost function because of the softmax result and use Adam optimization. There is not really any useful metric to judge if the model does good so we will mostly just look at the results.\"_\n",
        "\n",
        "For our model we add another LSTM layer to the model. After some research ([here](https://machinelearningmastery.com/stacked-long-short-term-memory-networks/) and [here](https://stats.stackexchange.com/questions/163304/what-are-the-advantages-of-stacking-multiple-lstms?utm_source=pocket_mylist)) it turns out that using additional LSTM layers improves the output of the model to some extend. After experimenting I agree with this. In this notebook I have settled for two layers.\n"
      ],
      "metadata": {
        "id": "xLI2J3biR9zQ"
      }
    },
    {
      "cell_type": "code",
      "execution_count": 43,
      "source": [
        "# Neural network architecture\n",
        "model = Sequential()\n",
        "model.add(LSTM(128, input_shape=(max_char, char_dim), return_sequences=True))\n",
        "model.add(LSTM(128, input_shape=(max_char, char_dim), return_sequences=True))\n",
        "model.add(Dense(char_dim, activation='softmax'))\n",
        "\n",
        "model.compile(loss='categorical_crossentropy', optimizer='adam')\n",
        "\n",
        "# We set the number of epochs to 251 to also see the output of the 250th epoch    \n",
        "model.fit(X, Y, epochs=251, callbacks=[name_generator], verbose=0)"
      ],
      "outputs": [
        {
          "output_type": "stream",
          "name": "stdout",
          "text": [
            "Names generated after epoch 0\n",
            "vsuy.\n",
            "lya.\n",
            "aylwvdnë.\n",
            "tsiianew.\n",
            "nhqltàq.\n",
            "\n",
            "Names generated after epoch 25\n",
            "exny.\n",
            "andrae.\n",
            "ahaga.\n",
            "llea.\n",
            "rizita.\n",
            "\n",
            "Names generated after epoch 50\n",
            "oulayra.\n",
            "ahara.\n",
            "oukaina.\n",
            "aena.\n",
            "airan.\n",
            "\n",
            "Names generated after epoch 75\n",
            "unne.\n",
            "alyn.\n",
            "uriann.\n",
            "uriyah.\n",
            "ilan.\n",
            "\n",
            "Names generated after epoch 100\n",
            "elany.\n",
            "oudaya.\n",
            "ien.\n",
            "ayke.\n",
            "aibe.\n",
            "\n",
            "Names generated after epoch 125\n",
            "yomni.\n",
            "ijske.\n",
            "iliana.\n",
            "amire.\n",
            "ayslee.\n",
            "\n",
            "Names generated after epoch 150\n",
            "irla.\n",
            "umarca.\n",
            "ayam.\n",
            "ive.\n",
            "icke.\n",
            "\n",
            "Names generated after epoch 175\n",
            "hiba.\n",
            "aylen.\n",
            "annie.\n",
            "ahlya.\n",
            "urielle.\n",
            "\n",
            "Names generated after epoch 200\n",
            "elade.\n",
            "ofa.\n",
            "yottea.\n",
            "hofa.\n",
            "ula.\n",
            "\n",
            "Names generated after epoch 225\n",
            "ousavriengh.\n",
            "oussselina.\n",
            "uva.\n",
            "arell.\n",
            "ayden.\n",
            "\n",
            "Names generated after epoch 250\n",
            "alian.\n",
            "hilani.\n",
            "ousara.\n",
            "ixte.\n",
            "ayali.\n",
            "\n"
          ]
        },
        {
          "output_type": "execute_result",
          "data": {
            "text/plain": [
              "<keras.callbacks.History at 0x7f9c86a9f310>"
            ]
          },
          "metadata": {
            "tags": []
          },
          "execution_count": 43
        }
      ],
      "metadata": {
        "colab": {
          "base_uri": "https://localhost:8080/"
        },
        "id": "NO9W7AuSR9zS",
        "outputId": "e4d88218-ed3a-417a-e956-267310d72d92"
      }
    },
    {
      "cell_type": "markdown",
      "source": [
        "It is clear that the model is making significant improvements every 25 epochs. Where the first generated names are jibberish, we see that some potential names are formed in later epochs. During experimentation with the model it becomes clear that the model starts overfitting in later epochs (from around epoch 175/200). Considering our goal this might actually be good. Remembering our data processing steps, we already saw that names don't change that much over time. But we are still looking for something novel, so there are limits to the overfitting."
      ],
      "metadata": {
        "id": "MMBwVGeSR9zV"
      }
    },
    {
      "cell_type": "markdown",
      "source": [
        "## Save generated names and the model"
      ],
      "metadata": {
        "id": "Yf-femvrR9zV"
      }
    },
    {
      "cell_type": "markdown",
      "source": [
        "We have come very far. We wrangled or data, trained a model on a large list of existing names and saved the model for future references. This is the moment that we can truly start generating names. "
      ],
      "metadata": {
        "id": "R5eJxvEw1Y3w"
      }
    },
    {
      "cell_type": "code",
      "execution_count": 56,
      "source": [
        "# Set path and filename to store results\n",
        "path = './model_output/'\n",
        "filename = 'generated_names.txt'\n",
        "\n",
        "# Set number of names to be generated by model\n",
        "number_of_names = 25\n",
        "\n",
        "# Create directory to store names if not existing\n",
        "if not os.path.exists(path):\n",
        "    os.makedirs(path)\n",
        "\n",
        "# Create file to store names if not existing\n",
        "if not os.path.isfile(f'{path}/{filename}'):\n",
        "    open(f'{path}/{filename}', 'w').close()\n",
        "\n",
        "# Append the number of names to the file so previous names don't get overwritten\n",
        "with open(f'{path}/{filename}', 'a') as text:\n",
        "      \n",
        "    output = []\n",
        "    \n",
        "    for i in range(number_of_names):\n",
        "        # Removing the dot at the end and printing names on a new line\n",
        "        x = str(make_name(model)[:-1]) + '\\n'\n",
        "        output.append(x)\n",
        "      \n",
        "    [text.write(x) for x in output]\n",
        "\n",
        "text.close()"
      ],
      "outputs": [
        {
          "output_type": "stream",
          "name": "stdout",
          "text": [
            "azaya.\n",
            "oufedaû.\n",
            "uriel.\n",
            "ossa.\n",
            "osnen.\n",
            "ayalee.\n",
            "ornelys.\n",
            "uleda.\n",
            "alayah.\n",
            "oune.\n",
            "opee.\n",
            "is.\n",
            "urielle.\n",
            "aelie.\n",
            "yana.\n",
            "ousssada.\n",
            "ouna.\n",
            "amanih.\n",
            "ayla.\n",
            "oussvia.\n",
            "airah.\n",
            "aydin.\n",
            "eslyn.\n",
            "ouka.\n",
            "erell.\n"
          ]
        }
      ],
      "metadata": {
        "colab": {
          "base_uri": "https://localhost:8080/"
        },
        "id": "LWjRHJT6R9zX",
        "outputId": "a85bf3d8-e614-4f27-c0e3-a5cf4effb65e"
      }
    },
    {
      "cell_type": "code",
      "execution_count": 46,
      "source": [
        "# Saving the model so that we can use it later to quickly generate new names\n",
        "model.save(f'./model/model.h5')  # creates a HDF5 file"
      ],
      "outputs": [],
      "metadata": {
        "id": "kpmFzJbWR9zZ"
      }
    },
    {
      "cell_type": "markdown",
      "source": [
        "## Names, names, names"
      ],
      "metadata": {
        "id": "TX_s-F_9R9zZ"
      }
    },
    {
      "cell_type": "markdown",
      "source": [
        "A long or endless list of generated names is cool, but I am well of what my only end user wants to know: 'So, which one are unique?!'. \n",
        "\n",
        "The next steps are optional, but it will likely be more impressive to your end user than the technical achievements above."
      ],
      "metadata": {
        "id": "NOvI30Mw054x"
      }
    },
    {
      "cell_type": "code",
      "execution_count": 60,
      "source": [
        "# Loading the list of generated names\n",
        "with open(f'{path}/{filename}', 'r') as file:\n",
        "    gen_names = file.read()\n",
        "    gen_names = gen_names.splitlines()\n",
        "file.close()\n",
        "\n",
        "gen_names = pl.Series(gen_names)"
      ],
      "outputs": [],
      "metadata": {
        "id": "h7rjV-IYR9zc"
      }
    },
    {
      "cell_type": "code",
      "execution_count": 61,
      "source": [
        "# Loading the list of original existing names \n",
        "with open(f'model_input/names.txt', 'r') as file:\n",
        "    original_names = file.read()\n",
        "    original_names = original_names.splitlines()\n",
        "file.close()\n",
        "\n",
        "_ = []\n",
        "\n",
        "for name in original_names:\n",
        "  _.append(name.lower())\n",
        "\n",
        "original_names = list(_)"
      ],
      "outputs": [],
      "metadata": {
        "id": "RKd9fBzWR9ze"
      }
    },
    {
      "cell_type": "code",
      "execution_count": 62,
      "source": [
        "# Create a list of generated names and indicator if the name was in the original list\n",
        "# True means the name is already present in the original list. False means the name is 'new'\n",
        "check_names = gen_names.is_in(original_names)\n",
        "name_existing = list(zip(list(gen_names), check_names.to_list()))\n",
        "\n",
        "for value in name_existing:\n",
        "  print(value)"
      ],
      "outputs": [
        {
          "output_type": "stream",
          "name": "stdout",
          "text": [
            "('ouna', False)\n",
            "('iya', True)\n",
            "('eilynn', False)\n",
            "('issel', False)\n",
            "('ateyn', False)\n",
            "('elen', True)\n",
            "('umara', False)\n",
            "('hanna', True)\n",
            "('umerien', False)\n",
            "('uleyaa', False)\n",
            "('insher', False)\n",
            "('owne', False)\n",
            "('oumays', False)\n",
            "('ousssale', False)\n",
            "('ille', True)\n",
            "('ayali', False)\n",
            "('ia', True)\n",
            "('ennisa', False)\n",
            "('hevra', False)\n",
            "('iana', True)\n",
            "('oucedda', False)\n",
            "('issel', False)\n",
            "('ordella', False)\n",
            "('ea', True)\n",
            "('arhie', False)\n",
            "('elane', False)\n",
            "('ulea', False)\n",
            "('immee', False)\n",
            "('ouke', False)\n",
            "('yliarose', False)\n",
            "('iana', True)\n",
            "('umie', False)\n",
            "('illen', False)\n",
            "('illei', False)\n",
            "('uzey', False)\n",
            "('evell', False)\n",
            "('ouca', False)\n",
            "('ornace', False)\n",
            "('uriel', True)\n",
            "('uriane', False)\n",
            "('utana', False)\n",
            "('ofnar', False)\n",
            "('aztyn', False)\n",
            "('efzay', False)\n",
            "('elene', True)\n",
            "('eslyn', False)\n",
            "('udrie', False)\n",
            "('urey', False)\n",
            "('lonna', True)\n",
            "('urielle', True)\n",
            "('azaya', True)\n",
            "('oufedaû', False)\n",
            "('uriel', True)\n",
            "('ossa', False)\n",
            "('osnen', False)\n",
            "('ayalee', False)\n",
            "('ornelys', False)\n",
            "('uleda', False)\n",
            "('alayah', True)\n",
            "('oune', False)\n",
            "('opee', False)\n",
            "('is', False)\n",
            "('urielle', True)\n",
            "('aelie', False)\n",
            "('yana', True)\n",
            "('ousssada', False)\n",
            "('ouna', False)\n",
            "('amanih', False)\n",
            "('ayla', True)\n",
            "('oussvia', False)\n",
            "('airah', True)\n",
            "('aydin', True)\n",
            "('eslyn', False)\n",
            "('ouka', False)\n",
            "('erell', False)\n"
          ]
        }
      ],
      "metadata": {
        "colab": {
          "base_uri": "https://localhost:8080/"
        },
        "id": "lN-sQedV0uKh",
        "outputId": "caa572ce-689d-401c-f894-a94e8b724538"
      }
    }
  ]
}